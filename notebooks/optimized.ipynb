{
 "cells": [
  {
   "cell_type": "markdown",
   "metadata": {
    "id": "iUfd982kMmJc"
   },
   "source": [
    "# Training a Neural Network for Object Pose Estimation"
   ]
  },
  {
   "cell_type": "code",
   "execution_count": null,
   "metadata": {
    "colab": {
     "base_uri": "https://localhost:8080/"
    },
    "executionInfo": {
     "elapsed": 4180,
     "status": "ok",
     "timestamp": 1743734461189,
     "user": {
      "displayName": "HAREL ARATH HERNANDEZ AMEZCUA",
      "userId": "16374506728272450130"
     },
     "user_tz": 360
    },
    "id": "5wUhVvOx00qF",
    "outputId": "46fc910c-eca4-4785-92ad-f29c5e5a4623"
   },
   "outputs": [],
   "source": [
    "import sys\n",
    "colab = False\n",
    "if 'google.colab' in sys.modules:\n",
    "    from google.colab import drive\n",
    "    drive.mount('/content/drive')\n",
    "    !pip install \"numpy<2\" opencv-python-headless \\\n",
    "    pillow pyparsing==3.0.9 pyrr==0.10.3 python-dateutil  PyYAML\\\n",
    "    scikit-image scikit-learn scipy simplejson\\\n",
    "    torch torchvision albumentations[imgaug]==1.2.1\n",
    "    colab = True\n",
    "\n",
    "#!pip uninstall -y torchvision\n",
    "#!pip install torchvision"
   ]
  },
  {
   "cell_type": "code",
   "execution_count": null,
   "metadata": {
    "colab": {
     "base_uri": "https://localhost:8080/"
    },
    "executionInfo": {
     "elapsed": 6151,
     "status": "ok",
     "timestamp": 1743734467339,
     "user": {
      "displayName": "HAREL ARATH HERNANDEZ AMEZCUA",
      "userId": "16374506728272450130"
     },
     "user_tz": 360
    },
    "id": "vEve8vxGMS6z",
    "outputId": "2024f258-bb9d-411c-c441-d24b8e306b8d"
   },
   "outputs": [],
   "source": [
    "!pip uninstall -y torchvision\n",
    "!pip install torchvision"
   ]
  },
  {
   "cell_type": "code",
   "execution_count": null,
   "metadata": {
    "colab": {
     "base_uri": "https://localhost:8080/"
    },
    "executionInfo": {
     "elapsed": 8234,
     "status": "ok",
     "timestamp": 1743734475582,
     "user": {
      "displayName": "HAREL ARATH HERNANDEZ AMEZCUA",
      "userId": "16374506728272450130"
     },
     "user_tz": 360
    },
    "id": "22Mj3pai6Xk3",
    "outputId": "7673e5a0-d4c6-4638-93bb-21b6173ba314"
   },
   "outputs": [],
   "source": [
    "import datetime\n",
    "import os\n",
    "import random\n",
    "import warnings\n",
    "from pathlib import Path\n",
    "\n",
    "import torch\n",
    "import torch.nn.parallel\n",
    "import torch.optim as optim\n",
    "import torch.utils.data\n",
    "from torch.cuda import amp\n",
    "from tqdm.notebook import tqdm\n",
    "\n",
    "# Conditional that checks if it's running on Colab and sets the directory accordingly\n",
    "if colab:\n",
    "    os.chdir('/content/drive/Othercomputers/Mi portátil/dope-training')\n",
    "    print(\"Running on Google Colab\")\n",
    "else:\n",
    "    # Add all parent directories to the system path\n",
    "    for parent in Path.cwd().parents:\n",
    "        sys.path.append(str(parent))\n",
    "\n",
    "from auxiliar_dope.model import DopeNetwork\n",
    "from auxiliar_dope.utils import save_image\n",
    "import src.args_parser as ar\n",
    "import src.custom_transform as ct\n",
    "import src.auxiliar as aux\n",
    "import src.run_network as rn\n",
    "\n",
    "# Import the necessary modules\n",
    "warnings.filterwarnings(\"ignore\")\n",
    "os.environ[\"CUDA_VISIBLE_DEVICES\"] = \"0\"\n",
    "os.environ[\"NO_ALBUMENTATIONS_UPDATE\"] = \"1\"\n",
    "\n",
    "full_path = os.getcwd()\n",
    "sys.path.append(full_path)\n",
    "\n",
    "device = torch.device(\"cuda\" if torch.cuda.is_available() else \"cpu\")\n",
    "print(f\"Using device: {device}\")"
   ]
  },
  {
   "cell_type": "code",
   "execution_count": null,
   "metadata": {
    "colab": {
     "base_uri": "https://localhost:8080/"
    },
    "executionInfo": {
     "elapsed": 15,
     "status": "ok",
     "timestamp": 1743734475598,
     "user": {
      "displayName": "HAREL ARATH HERNANDEZ AMEZCUA",
      "userId": "16374506728272450130"
     },
     "user_tz": 360
    },
    "id": "ohcxNu-cMmJf",
    "outputId": "c14e2502-2645-4981-ca6e-387e73d46d42"
   },
   "outputs": [],
   "source": [
    "full_path = os.path.dirname(os.getcwd())\n",
    "print(f\"Using path: {full_path}\")"
   ]
  },
  {
   "cell_type": "code",
   "execution_count": null,
   "metadata": {
    "colab": {
     "base_uri": "https://localhost:8080/"
    },
    "executionInfo": {
     "elapsed": 108,
     "status": "ok",
     "timestamp": 1743734475707,
     "user": {
      "displayName": "HAREL ARATH HERNANDEZ AMEZCUA",
      "userId": "16374506728272450130"
     },
     "user_tz": 360
    },
    "id": "ACRP1XYkHA-J",
    "outputId": "67661e17-d1e0-4692-afbf-2a310ecd0acd"
   },
   "outputs": [],
   "source": [
    "# Parse arguments\n",
    "opt = ar.parse_args(full_path, colab)\n",
    "# set the manual seed.\n",
    "random.seed(opt.manualseed)\n",
    "torch.manual_seed(opt.manualseed)\n",
    "torch.cuda.manual_seed_all(opt.manualseed)\n",
    "# Create output folder and files\n",
    "aux.create_output_folder(opt)\n",
    "print (\"start:\" , datetime.datetime.now().time())"
   ]
  },
  {
   "cell_type": "code",
   "execution_count": null,
   "metadata": {
    "colab": {
     "base_uri": "https://localhost:8080/",
     "height": 35
    },
    "executionInfo": {
     "elapsed": 47,
     "status": "ok",
     "timestamp": 1743734475757,
     "user": {
      "displayName": "HAREL ARATH HERNANDEZ AMEZCUA",
      "userId": "16374506728272450130"
     },
     "user_tz": 360
    },
    "id": "tL4kFSxShaIG",
    "outputId": "1287e448-f238-4144-f703-8c61ed6ad731"
   },
   "outputs": [],
   "source": [
    "opt.data"
   ]
  },
  {
   "cell_type": "code",
   "execution_count": null,
   "metadata": {
    "colab": {
     "base_uri": "https://localhost:8080/"
    },
    "executionInfo": {
     "elapsed": 158,
     "status": "ok",
     "timestamp": 1743734475915,
     "user": {
      "displayName": "HAREL ARATH HERNANDEZ AMEZCUA",
      "userId": "16374506728272450130"
     },
     "user_tz": 360
    },
    "id": "YqfpN74i3608",
    "outputId": "678767ca-6c30-4cd5-a3d1-016c904f1a87"
   },
   "outputs": [],
   "source": [
    "!ls '/content/drive/Othercomputers/Mi portátil/dataset'\n"
   ]
  },
  {
   "cell_type": "code",
   "execution_count": null,
   "metadata": {
    "colab": {
     "base_uri": "https://localhost:8080/"
    },
    "executionInfo": {
     "elapsed": 849,
     "status": "ok",
     "timestamp": 1743734476763,
     "user": {
      "displayName": "HAREL ARATH HERNANDEZ AMEZCUA",
      "userId": "16374506728272450130"
     },
     "user_tz": 360
    },
    "id": "iKXBHhjf3-oK",
    "outputId": "429416ee-5578-4b0d-c63a-08ff5385aa93"
   },
   "outputs": [],
   "source": [
    "from google.colab import drive\n",
    "drive.mount('/content/drive')\n"
   ]
  },
  {
   "cell_type": "code",
   "execution_count": null,
   "metadata": {
    "colab": {
     "base_uri": "https://localhost:8080/"
    },
    "executionInfo": {
     "elapsed": 590775,
     "status": "ok",
     "timestamp": 1743735067539,
     "user": {
      "displayName": "HAREL ARATH HERNANDEZ AMEZCUA",
      "userId": "16374506728272450130"
     },
     "user_tz": 360
    },
    "id": "oN2AdOmJ8jUU",
    "outputId": "b183a29f-e7fb-4da8-9916-9e90e435c743"
   },
   "outputs": [],
   "source": [
    "# Initialize the image transforms\n",
    "transform, preprocessing_transform, mean, std  = ct.get_transform()\n",
    "\n",
    "# Get the DataLoaders\n",
    "train_dataset, test_dataset, trainingdata, testingdata = aux.get_DataLoaders(opt, preprocessing_transform, transform)"
   ]
  },
  {
   "cell_type": "code",
   "execution_count": null,
   "metadata": {
    "colab": {
     "base_uri": "https://localhost:8080/",
     "height": 53
    },
    "executionInfo": {
     "elapsed": 8,
     "status": "ok",
     "timestamp": 1743735067540,
     "user": {
      "displayName": "HAREL ARATH HERNANDEZ AMEZCUA",
      "userId": "16374506728272450130"
     },
     "user_tz": 360
    },
    "id": "DcYcnXRTMmJg",
    "outputId": "aa17d919-bd15-488e-80e9-622fc0d788a6"
   },
   "outputs": [],
   "source": [
    "\"\"\"train_dataset.test = True\n",
    "\n",
    "for i in range(10):\n",
    "    images = next(iter(trainingdata))\n",
    "    print(\"Saving batch {}\".format(i))\n",
    "    save_image(images['image'], '{}/train_00000{}.png'.format(opt.outf,i), mean=mean, std=std)\n",
    "train_dataset.test = False\"\"\""
   ]
  },
  {
   "cell_type": "code",
   "execution_count": null,
   "metadata": {
    "colab": {
     "base_uri": "https://localhost:8080/",
     "height": 84,
     "referenced_widgets": [
      "dd4bbd20523749e1b174b73269330d50",
      "bfd6a4cb22484b99859a7bffcb54cbd5",
      "95922c733d1a4d1aac96275637cdb97a",
      "0c94df9926c0480aa054250729da26e7",
      "6ddf0ee0f708491a8e7b47b620eb6151",
      "2d236b3107894ff5ad75a0bf82ded8f2",
      "f35f826f6c48429d86e329b630538ef3",
      "81992d8996e34f5ca1cd77033e99c6e4",
      "64c6a518a5e748da8e8f7ff411af204f",
      "b4af4e29b88640949008df84a1e11787",
      "6f2a072450594b5db5f1a4920a191692"
     ]
    },
    "id": "KSFhFNJ9i5iU",
    "outputId": "a72986d9-8177-494a-aa24-50235fc93c9a"
   },
   "outputs": [],
   "source": [
    "net = DopeNetwork()\n",
    "net = net.to(device)\n",
    "\n",
    "# Load the weights if a pretrained model is provided\n",
    "aux.load_dicts(opt, net, device)\n",
    "\n",
    "parameters = filter(lambda p: p.requires_grad, net.parameters())\n",
    "optimizer = optim.Adam(parameters,lr=opt.lr)\n",
    "\n",
    "nb_update_network = 0\n",
    "\n",
    "scaler = amp.GradScaler()\n",
    "torch.backends.cudnn.benchmark = True\n",
    "pbar = tqdm(range(1, opt.epochs + 1))\n",
    "\n",
    "for epoch in pbar:\n",
    "    rn._runnetwork(epoch, trainingdata, testingdata, pbar=pbar,\n",
    "                    optimizer=optimizer, scaler=scaler, opt = opt,\n",
    "                    net = net, device = device)\n",
    "    try:\n",
    "        torch.save(net.state_dict(), f'{opt.outf}/net_{opt.namefile}_{epoch}.pth')\n",
    "    except Exception as e:\n",
    "        print(f\"Error saving model at epoch {epoch}: {e}\")\n",
    "\n",
    "print(\"end:\", datetime.datetime.now().time())"
   ]
  }
 ],
 "metadata": {
  "accelerator": "GPU",
  "colab": {
   "gpuType": "T4",
   "provenance": []
  },
  "kernelspec": {
   "display_name": "Python (resnet_venv)",
   "language": "python",
   "name": "resnet_venv"
  },
  "language_info": {
   "codemirror_mode": {
    "name": "ipython",
    "version": 3
   },
   "file_extension": ".py",
   "mimetype": "text/x-python",
   "name": "python",
   "nbconvert_exporter": "python",
   "pygments_lexer": "ipython3",
   "version": "3.9.13"
  },
  "widgets": {
   "application/vnd.jupyter.widget-state+json": {
    "0c94df9926c0480aa054250729da26e7": {
     "model_module": "@jupyter-widgets/controls",
     "model_module_version": "1.5.0",
     "model_name": "HTMLModel",
     "state": {
      "_dom_classes": [],
      "_model_module": "@jupyter-widgets/controls",
      "_model_module_version": "1.5.0",
      "_model_name": "HTMLModel",
      "_view_count": null,
      "_view_module": "@jupyter-widgets/controls",
      "_view_module_version": "1.5.0",
      "_view_name": "HTMLView",
      "description": "",
      "description_tooltip": null,
      "layout": "IPY_MODEL_b4af4e29b88640949008df84a1e11787",
      "placeholder": "​",
      "style": "IPY_MODEL_6f2a072450594b5db5f1a4920a191692",
      "value": " 0/50 [2:07:26&lt;?, ?it/s]"
     }
    },
    "2d236b3107894ff5ad75a0bf82ded8f2": {
     "model_module": "@jupyter-widgets/base",
     "model_module_version": "1.2.0",
     "model_name": "LayoutModel",
     "state": {
      "_model_module": "@jupyter-widgets/base",
      "_model_module_version": "1.2.0",
      "_model_name": "LayoutModel",
      "_view_count": null,
      "_view_module": "@jupyter-widgets/base",
      "_view_module_version": "1.2.0",
      "_view_name": "LayoutView",
      "align_content": null,
      "align_items": null,
      "align_self": null,
      "border": null,
      "bottom": null,
      "display": null,
      "flex": null,
      "flex_flow": null,
      "grid_area": null,
      "grid_auto_columns": null,
      "grid_auto_flow": null,
      "grid_auto_rows": null,
      "grid_column": null,
      "grid_gap": null,
      "grid_row": null,
      "grid_template_areas": null,
      "grid_template_columns": null,
      "grid_template_rows": null,
      "height": null,
      "justify_content": null,
      "justify_items": null,
      "left": null,
      "margin": null,
      "max_height": null,
      "max_width": null,
      "min_height": null,
      "min_width": null,
      "object_fit": null,
      "object_position": null,
      "order": null,
      "overflow": null,
      "overflow_x": null,
      "overflow_y": null,
      "padding": null,
      "right": null,
      "top": null,
      "visibility": null,
      "width": null
     }
    },
    "64c6a518a5e748da8e8f7ff411af204f": {
     "model_module": "@jupyter-widgets/controls",
     "model_module_version": "1.5.0",
     "model_name": "ProgressStyleModel",
     "state": {
      "_model_module": "@jupyter-widgets/controls",
      "_model_module_version": "1.5.0",
      "_model_name": "ProgressStyleModel",
      "_view_count": null,
      "_view_module": "@jupyter-widgets/base",
      "_view_module_version": "1.2.0",
      "_view_name": "StyleView",
      "bar_color": null,
      "description_width": ""
     }
    },
    "6ddf0ee0f708491a8e7b47b620eb6151": {
     "model_module": "@jupyter-widgets/base",
     "model_module_version": "1.2.0",
     "model_name": "LayoutModel",
     "state": {
      "_model_module": "@jupyter-widgets/base",
      "_model_module_version": "1.2.0",
      "_model_name": "LayoutModel",
      "_view_count": null,
      "_view_module": "@jupyter-widgets/base",
      "_view_module_version": "1.2.0",
      "_view_name": "LayoutView",
      "align_content": null,
      "align_items": null,
      "align_self": null,
      "border": null,
      "bottom": null,
      "display": null,
      "flex": null,
      "flex_flow": null,
      "grid_area": null,
      "grid_auto_columns": null,
      "grid_auto_flow": null,
      "grid_auto_rows": null,
      "grid_column": null,
      "grid_gap": null,
      "grid_row": null,
      "grid_template_areas": null,
      "grid_template_columns": null,
      "grid_template_rows": null,
      "height": null,
      "justify_content": null,
      "justify_items": null,
      "left": null,
      "margin": null,
      "max_height": null,
      "max_width": null,
      "min_height": null,
      "min_width": null,
      "object_fit": null,
      "object_position": null,
      "order": null,
      "overflow": null,
      "overflow_x": null,
      "overflow_y": null,
      "padding": null,
      "right": null,
      "top": null,
      "visibility": null,
      "width": null
     }
    },
    "6f2a072450594b5db5f1a4920a191692": {
     "model_module": "@jupyter-widgets/controls",
     "model_module_version": "1.5.0",
     "model_name": "DescriptionStyleModel",
     "state": {
      "_model_module": "@jupyter-widgets/controls",
      "_model_module_version": "1.5.0",
      "_model_name": "DescriptionStyleModel",
      "_view_count": null,
      "_view_module": "@jupyter-widgets/base",
      "_view_module_version": "1.2.0",
      "_view_name": "StyleView",
      "description_width": ""
     }
    },
    "81992d8996e34f5ca1cd77033e99c6e4": {
     "model_module": "@jupyter-widgets/base",
     "model_module_version": "1.2.0",
     "model_name": "LayoutModel",
     "state": {
      "_model_module": "@jupyter-widgets/base",
      "_model_module_version": "1.2.0",
      "_model_name": "LayoutModel",
      "_view_count": null,
      "_view_module": "@jupyter-widgets/base",
      "_view_module_version": "1.2.0",
      "_view_name": "LayoutView",
      "align_content": null,
      "align_items": null,
      "align_self": null,
      "border": null,
      "bottom": null,
      "display": null,
      "flex": null,
      "flex_flow": null,
      "grid_area": null,
      "grid_auto_columns": null,
      "grid_auto_flow": null,
      "grid_auto_rows": null,
      "grid_column": null,
      "grid_gap": null,
      "grid_row": null,
      "grid_template_areas": null,
      "grid_template_columns": null,
      "grid_template_rows": null,
      "height": null,
      "justify_content": null,
      "justify_items": null,
      "left": null,
      "margin": null,
      "max_height": null,
      "max_width": null,
      "min_height": null,
      "min_width": null,
      "object_fit": null,
      "object_position": null,
      "order": null,
      "overflow": null,
      "overflow_x": null,
      "overflow_y": null,
      "padding": null,
      "right": null,
      "top": null,
      "visibility": null,
      "width": null
     }
    },
    "95922c733d1a4d1aac96275637cdb97a": {
     "model_module": "@jupyter-widgets/controls",
     "model_module_version": "1.5.0",
     "model_name": "FloatProgressModel",
     "state": {
      "_dom_classes": [],
      "_model_module": "@jupyter-widgets/controls",
      "_model_module_version": "1.5.0",
      "_model_name": "FloatProgressModel",
      "_view_count": null,
      "_view_module": "@jupyter-widgets/controls",
      "_view_module_version": "1.5.0",
      "_view_name": "ProgressView",
      "bar_style": "",
      "description": "",
      "description_tooltip": null,
      "layout": "IPY_MODEL_81992d8996e34f5ca1cd77033e99c6e4",
      "max": 50,
      "min": 0,
      "orientation": "horizontal",
      "style": "IPY_MODEL_64c6a518a5e748da8e8f7ff411af204f",
      "value": 0
     }
    },
    "b4af4e29b88640949008df84a1e11787": {
     "model_module": "@jupyter-widgets/base",
     "model_module_version": "1.2.0",
     "model_name": "LayoutModel",
     "state": {
      "_model_module": "@jupyter-widgets/base",
      "_model_module_version": "1.2.0",
      "_model_name": "LayoutModel",
      "_view_count": null,
      "_view_module": "@jupyter-widgets/base",
      "_view_module_version": "1.2.0",
      "_view_name": "LayoutView",
      "align_content": null,
      "align_items": null,
      "align_self": null,
      "border": null,
      "bottom": null,
      "display": null,
      "flex": null,
      "flex_flow": null,
      "grid_area": null,
      "grid_auto_columns": null,
      "grid_auto_flow": null,
      "grid_auto_rows": null,
      "grid_column": null,
      "grid_gap": null,
      "grid_row": null,
      "grid_template_areas": null,
      "grid_template_columns": null,
      "grid_template_rows": null,
      "height": null,
      "justify_content": null,
      "justify_items": null,
      "left": null,
      "margin": null,
      "max_height": null,
      "max_width": null,
      "min_height": null,
      "min_width": null,
      "object_fit": null,
      "object_position": null,
      "order": null,
      "overflow": null,
      "overflow_x": null,
      "overflow_y": null,
      "padding": null,
      "right": null,
      "top": null,
      "visibility": null,
      "width": null
     }
    },
    "bfd6a4cb22484b99859a7bffcb54cbd5": {
     "model_module": "@jupyter-widgets/controls",
     "model_module_version": "1.5.0",
     "model_name": "HTMLModel",
     "state": {
      "_dom_classes": [],
      "_model_module": "@jupyter-widgets/controls",
      "_model_module_version": "1.5.0",
      "_model_name": "HTMLModel",
      "_view_count": null,
      "_view_module": "@jupyter-widgets/controls",
      "_view_module_version": "1.5.0",
      "_view_name": "HTMLView",
      "description": "",
      "description_tooltip": null,
      "layout": "IPY_MODEL_2d236b3107894ff5ad75a0bf82ded8f2",
      "placeholder": "​",
      "style": "IPY_MODEL_f35f826f6c48429d86e329b630538ef3",
      "value": "Training loss: 0.0020 (501/1208):   0%"
     }
    },
    "dd4bbd20523749e1b174b73269330d50": {
     "model_module": "@jupyter-widgets/controls",
     "model_module_version": "1.5.0",
     "model_name": "HBoxModel",
     "state": {
      "_dom_classes": [],
      "_model_module": "@jupyter-widgets/controls",
      "_model_module_version": "1.5.0",
      "_model_name": "HBoxModel",
      "_view_count": null,
      "_view_module": "@jupyter-widgets/controls",
      "_view_module_version": "1.5.0",
      "_view_name": "HBoxView",
      "box_style": "",
      "children": [
       "IPY_MODEL_bfd6a4cb22484b99859a7bffcb54cbd5",
       "IPY_MODEL_95922c733d1a4d1aac96275637cdb97a",
       "IPY_MODEL_0c94df9926c0480aa054250729da26e7"
      ],
      "layout": "IPY_MODEL_6ddf0ee0f708491a8e7b47b620eb6151"
     }
    },
    "f35f826f6c48429d86e329b630538ef3": {
     "model_module": "@jupyter-widgets/controls",
     "model_module_version": "1.5.0",
     "model_name": "DescriptionStyleModel",
     "state": {
      "_model_module": "@jupyter-widgets/controls",
      "_model_module_version": "1.5.0",
      "_model_name": "DescriptionStyleModel",
      "_view_count": null,
      "_view_module": "@jupyter-widgets/base",
      "_view_module_version": "1.2.0",
      "_view_name": "StyleView",
      "description_width": ""
     }
    }
   }
  }
 },
 "nbformat": 4,
 "nbformat_minor": 0
}
