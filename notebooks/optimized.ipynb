{
 "cells": [
  {
   "cell_type": "code",
   "execution_count": null,
   "metadata": {
    "colab": {
     "base_uri": "https://localhost:8080/"
    },
    "executionInfo": {
     "elapsed": 8398,
     "status": "ok",
     "timestamp": 1740885610252,
     "user": {
      "displayName": "HAREL ARATH HERNANDEZ AMEZCUA",
      "userId": "16374506728272450130"
     },
     "user_tz": 360
    },
    "id": "5wUhVvOx00qF",
    "outputId": "e626f70a-2eee-47c2-d507-2b762d3f9466"
   },
   "outputs": [],
   "source": [
    "import sys\n",
    "colab = False\n",
    "\n",
    "if 'google.colab' in sys.modules:\n",
    "    from google.colab import drive\n",
    "    drive.mount('/content/drive')\n",
    "    !pip install  numpy opencv-python-headless \\\n",
    "    pillow pyparsing==3.0.9 pyrr==0.10.3 python-dateutil  PyYAML\\\n",
    "    scikit-image scikit-learn scipy simplejson\\\n",
    "    torch torchvision albumentations[imgaug]==1.2.1\n",
    "    colab = True"
   ]
  },
  {
   "cell_type": "code",
   "execution_count": null,
   "metadata": {
    "colab": {
     "base_uri": "https://localhost:8080/"
    },
    "executionInfo": {
     "elapsed": 18513,
     "status": "ok",
     "timestamp": 1740885628779,
     "user": {
      "displayName": "HAREL ARATH HERNANDEZ AMEZCUA",
      "userId": "16374506728272450130"
     },
     "user_tz": 360
    },
    "id": "22Mj3pai6Xk3",
    "outputId": "a4f6d496-aed3-4229-ba3a-379c4ea0eedb"
   },
   "outputs": [],
   "source": [
    "import datetime\n",
    "import os\n",
    "import random\n",
    "import warnings\n",
    "from collections import OrderedDict\n",
    "from pathlib import Path\n",
    "\n",
    "import torch\n",
    "import torch.nn.parallel\n",
    "import torch.optim as optim\n",
    "import torch.utils.data\n",
    "from torch.cuda import amp\n",
    "from tqdm.notebook import tqdm\n",
    "\n",
    "# Conditional that checks if it's running on Colab and sets the directory accordingly\n",
    "if colab:\n",
    "    os.chdir('/content/drive/MyDrive/dope-training')\n",
    "    print(\"Running on Google Colab\")\n",
    "else:\n",
    "    # Add all parent directories to the system path\n",
    "    for parent in Path.cwd().parents:\n",
    "        sys.path.append(str(parent))\n",
    "\n",
    "from auxiliar_dope.model import DopeNetwork\n",
    "from auxiliar_dope.utils import MultipleVertexJson, save_image\n",
    "import src.args_parser as ar\n",
    "import src.custom_transform as ct\n",
    "import src.auxiliar as aux\n",
    "import src.run_network as rn\n",
    "\n",
    "# Import the necessary modules\n",
    "warnings.filterwarnings(\"ignore\")\n",
    "os.environ[\"CUDA_VISIBLE_DEVICES\"] = \"0\"\n",
    "os.environ[\"NO_ALBUMENTATIONS_UPDATE\"] = \"1\"\n",
    "\n",
    "full_path = os.getcwd()\n",
    "sys.path.append(full_path)\n",
    "\n",
    "device = torch.device(\"cuda\" if torch.cuda.is_available() else \"cpu\")\n",
    "print(f\"Using device: {device}\")"
   ]
  },
  {
   "cell_type": "code",
   "execution_count": null,
   "metadata": {
    "colab": {
     "base_uri": "https://localhost:8080/"
    },
    "executionInfo": {
     "elapsed": 70,
     "status": "ok",
     "timestamp": 1740885628850,
     "user": {
      "displayName": "HAREL ARATH HERNANDEZ AMEZCUA",
      "userId": "16374506728272450130"
     },
     "user_tz": 360
    },
    "id": "ACRP1XYkHA-J",
    "outputId": "967d0474-a105-4468-d7ad-883ae46b446b"
   },
   "outputs": [],
   "source": [
    "# Parse arguments\n",
    "opt = ar.parse_args(full_path, colab)\n",
    "# set the manual seed.\n",
    "random.seed(opt.manualseed)\n",
    "torch.manual_seed(opt.manualseed)\n",
    "torch.cuda.manual_seed_all(opt.manualseed)\n",
    "# Create output folder and files\n",
    "aux.create_output_folder(opt)\n",
    "print (\"start:\" , datetime.datetime.now().time())"
   ]
  },
  {
   "cell_type": "code",
   "execution_count": null,
   "metadata": {
    "colab": {
     "base_uri": "https://localhost:8080/",
     "height": 192
    },
    "executionInfo": {
     "elapsed": 181973,
     "status": "ok",
     "timestamp": 1740885810834,
     "user": {
      "displayName": "HAREL ARATH HERNANDEZ AMEZCUA",
      "userId": "16374506728272450130"
     },
     "user_tz": 360
    },
    "id": "oN2AdOmJ8jUU",
    "outputId": "99789448-1b4c-45de-b505-5119cd847660"
   },
   "outputs": [],
   "source": [
    "# Initialize the image transforms\n",
    "transform, preprocessing_transform, mean, std  = ct.get_transform()\n",
    "\n",
    "# Get the DataLoaders\n",
    "train_dataset, test_dataset, trainingdata, testingdata = aux.get_DataLoaders(opt, preprocessing_transform, transform)\n",
    "\n",
    "\"\"\"\"train_dataset.test = True\n",
    "for i in range(len(trainingdata)):\n",
    "    images = next(iter(trainingdata))\n",
    "\n",
    "    save_image(images['image'],'{}/train_{}.png'.format( opt.outf,str(i).zfill(5)),mean=mean[0],std=std[0])\n",
    "    print (\"Saving batch %d\" % i)\n",
    "train_dataset.test = False\n",
    "\n",
    "print ('things are saved in {}'.format(opt.outf))\n",
    "for i, output in enumerate(trainingdata):\n",
    "    print(f\"Sample {i}: Keypoints shape = {output['keypoints'].shape}, Centroids shape = {output['centroids'].shape}\")\n",
    "    if i == 5:  # Muestra solo las primeras 5 iteraciones\n",
    "        break\n",
    "quit()\"\"\""
   ]
  },
  {
   "cell_type": "code",
   "execution_count": null,
   "metadata": {
    "colab": {
     "base_uri": "https://localhost:8080/",
     "height": 1000,
     "referenced_widgets": [
      "1893198921444e2ca0e344341d06aaad",
      "e16d4658bc2e441d92e6953381fd1ac1",
      "76e15d731699406e9234bf120360287a",
      "7bc2ee7a8dff4b98a8ef59e74ce9ad1d",
      "0113703cd1e64ab2b08f2be81b57951c",
      "c370cadf4ad14774977dd96d07746f37",
      "51940c0bdccb403eb057222b23d718c6",
      "1f6125ff9b4b4e7d86c82c353b309b48",
      "78eccacc415a4e12b267b7703d93c0fc",
      "065fa118ba3641c5a10e5867d9e58168",
      "501126e47fdc49fc85152f8e422e63f0"
     ]
    },
    "id": "KSFhFNJ9i5iU",
    "outputId": "5c136738-a6e0-4dd4-f9f7-cd69d6423ef7"
   },
   "outputs": [],
   "source": [
    "net = DopeNetwork(pretrained=opt.pretrained)\n",
    "net = net.to(device)\n",
    "\n",
    "# Load the weights if a pretrained model is provided\n",
    "aux.load_dicts(opt, net,device)\n",
    "\n",
    "parameters = filter(lambda p: p.requires_grad, net.parameters())\n",
    "optimizer = optim.Adam(parameters,lr=opt.lr)\n",
    "\n",
    "nb_update_network = 0\n",
    "\n",
    "scaler = amp.GradScaler()\n",
    "torch.backends.cudnn.benchmark = True\n",
    "pbar = tqdm(range(1, opt.epochs + 1))\n",
    "\n",
    "for epoch in pbar:\n",
    "    # Run training and testing as before\n",
    "    if trainingdata is not None:\n",
    "        rn._runnetwork(epoch, trainingdata, train=True, pbar=pbar,\n",
    "                       optimizer=optimizer, scaler=scaler, opt = opt,\n",
    "                       net = net, device = device, nb_update_network = nb_update_network)\n",
    "\n",
    "    if opt.datatest != \"\":\n",
    "        rn._runnetwork(epoch, testingdata, train=False, pbar=pbar,\n",
    "                       optimizer=optimizer, scaler=scaler, opt = opt,\n",
    "                       net = net, device = device, nb_update_network = nb_update_network)\n",
    "        if opt.data == \"\":\n",
    "            break  # Exit if only testing\n",
    "    try:\n",
    "        torch.save(net.state_dict(), f'{opt.outf}/net_{opt.namefile}_{epoch}.pth')\n",
    "    except Exception as e:\n",
    "        print(f\"Error saving model at epoch {epoch}: {e}\")\n",
    "\n",
    "    # Stop training if nb_update_network exceeds the limit\n",
    "    if opt.nbupdates is not None and nb_update_network > int(opt.nbupdates):\n",
    "        break\n",
    "\n",
    "print(\"end:\", datetime.datetime.now().time())"
   ]
  }
 ],
 "metadata": {
  "accelerator": "GPU",
  "colab": {
   "gpuType": "T4",
   "provenance": []
  },
  "kernelspec": {
   "display_name": "Python 3",
   "name": "python3"
  },
  "language_info": {
   "codemirror_mode": {
    "name": "ipython",
    "version": 3
   },
   "file_extension": ".py",
   "mimetype": "text/x-python",
   "name": "python",
   "nbconvert_exporter": "python",
   "pygments_lexer": "ipython3",
   "version": "3.11.9"
  },
  "widgets": {
   "application/vnd.jupyter.widget-state+json": {
    "0113703cd1e64ab2b08f2be81b57951c": {
     "model_module": "@jupyter-widgets/base",
     "model_module_version": "1.2.0",
     "model_name": "LayoutModel",
     "state": {
      "_model_module": "@jupyter-widgets/base",
      "_model_module_version": "1.2.0",
      "_model_name": "LayoutModel",
      "_view_count": null,
      "_view_module": "@jupyter-widgets/base",
      "_view_module_version": "1.2.0",
      "_view_name": "LayoutView",
      "align_content": null,
      "align_items": null,
      "align_self": null,
      "border": null,
      "bottom": null,
      "display": null,
      "flex": null,
      "flex_flow": null,
      "grid_area": null,
      "grid_auto_columns": null,
      "grid_auto_flow": null,
      "grid_auto_rows": null,
      "grid_column": null,
      "grid_gap": null,
      "grid_row": null,
      "grid_template_areas": null,
      "grid_template_columns": null,
      "grid_template_rows": null,
      "height": null,
      "justify_content": null,
      "justify_items": null,
      "left": null,
      "margin": null,
      "max_height": null,
      "max_width": null,
      "min_height": null,
      "min_width": null,
      "object_fit": null,
      "object_position": null,
      "order": null,
      "overflow": null,
      "overflow_x": null,
      "overflow_y": null,
      "padding": null,
      "right": null,
      "top": null,
      "visibility": null,
      "width": null
     }
    },
    "065fa118ba3641c5a10e5867d9e58168": {
     "model_module": "@jupyter-widgets/base",
     "model_module_version": "1.2.0",
     "model_name": "LayoutModel",
     "state": {
      "_model_module": "@jupyter-widgets/base",
      "_model_module_version": "1.2.0",
      "_model_name": "LayoutModel",
      "_view_count": null,
      "_view_module": "@jupyter-widgets/base",
      "_view_module_version": "1.2.0",
      "_view_name": "LayoutView",
      "align_content": null,
      "align_items": null,
      "align_self": null,
      "border": null,
      "bottom": null,
      "display": null,
      "flex": null,
      "flex_flow": null,
      "grid_area": null,
      "grid_auto_columns": null,
      "grid_auto_flow": null,
      "grid_auto_rows": null,
      "grid_column": null,
      "grid_gap": null,
      "grid_row": null,
      "grid_template_areas": null,
      "grid_template_columns": null,
      "grid_template_rows": null,
      "height": null,
      "justify_content": null,
      "justify_items": null,
      "left": null,
      "margin": null,
      "max_height": null,
      "max_width": null,
      "min_height": null,
      "min_width": null,
      "object_fit": null,
      "object_position": null,
      "order": null,
      "overflow": null,
      "overflow_x": null,
      "overflow_y": null,
      "padding": null,
      "right": null,
      "top": null,
      "visibility": null,
      "width": null
     }
    },
    "1893198921444e2ca0e344341d06aaad": {
     "model_module": "@jupyter-widgets/controls",
     "model_module_version": "1.5.0",
     "model_name": "HBoxModel",
     "state": {
      "_dom_classes": [],
      "_model_module": "@jupyter-widgets/controls",
      "_model_module_version": "1.5.0",
      "_model_name": "HBoxModel",
      "_view_count": null,
      "_view_module": "@jupyter-widgets/controls",
      "_view_module_version": "1.5.0",
      "_view_name": "HBoxView",
      "box_style": "",
      "children": [
       "IPY_MODEL_e16d4658bc2e441d92e6953381fd1ac1",
       "IPY_MODEL_76e15d731699406e9234bf120360287a",
       "IPY_MODEL_7bc2ee7a8dff4b98a8ef59e74ce9ad1d"
      ],
      "layout": "IPY_MODEL_0113703cd1e64ab2b08f2be81b57951c"
     }
    },
    "1f6125ff9b4b4e7d86c82c353b309b48": {
     "model_module": "@jupyter-widgets/base",
     "model_module_version": "1.2.0",
     "model_name": "LayoutModel",
     "state": {
      "_model_module": "@jupyter-widgets/base",
      "_model_module_version": "1.2.0",
      "_model_name": "LayoutModel",
      "_view_count": null,
      "_view_module": "@jupyter-widgets/base",
      "_view_module_version": "1.2.0",
      "_view_name": "LayoutView",
      "align_content": null,
      "align_items": null,
      "align_self": null,
      "border": null,
      "bottom": null,
      "display": null,
      "flex": null,
      "flex_flow": null,
      "grid_area": null,
      "grid_auto_columns": null,
      "grid_auto_flow": null,
      "grid_auto_rows": null,
      "grid_column": null,
      "grid_gap": null,
      "grid_row": null,
      "grid_template_areas": null,
      "grid_template_columns": null,
      "grid_template_rows": null,
      "height": null,
      "justify_content": null,
      "justify_items": null,
      "left": null,
      "margin": null,
      "max_height": null,
      "max_width": null,
      "min_height": null,
      "min_width": null,
      "object_fit": null,
      "object_position": null,
      "order": null,
      "overflow": null,
      "overflow_x": null,
      "overflow_y": null,
      "padding": null,
      "right": null,
      "top": null,
      "visibility": null,
      "width": null
     }
    },
    "501126e47fdc49fc85152f8e422e63f0": {
     "model_module": "@jupyter-widgets/controls",
     "model_module_version": "1.5.0",
     "model_name": "DescriptionStyleModel",
     "state": {
      "_model_module": "@jupyter-widgets/controls",
      "_model_module_version": "1.5.0",
      "_model_name": "DescriptionStyleModel",
      "_view_count": null,
      "_view_module": "@jupyter-widgets/base",
      "_view_module_version": "1.2.0",
      "_view_name": "StyleView",
      "description_width": ""
     }
    },
    "51940c0bdccb403eb057222b23d718c6": {
     "model_module": "@jupyter-widgets/controls",
     "model_module_version": "1.5.0",
     "model_name": "DescriptionStyleModel",
     "state": {
      "_model_module": "@jupyter-widgets/controls",
      "_model_module_version": "1.5.0",
      "_model_name": "DescriptionStyleModel",
      "_view_count": null,
      "_view_module": "@jupyter-widgets/base",
      "_view_module_version": "1.2.0",
      "_view_name": "StyleView",
      "description_width": ""
     }
    },
    "76e15d731699406e9234bf120360287a": {
     "model_module": "@jupyter-widgets/controls",
     "model_module_version": "1.5.0",
     "model_name": "FloatProgressModel",
     "state": {
      "_dom_classes": [],
      "_model_module": "@jupyter-widgets/controls",
      "_model_module_version": "1.5.0",
      "_model_name": "FloatProgressModel",
      "_view_count": null,
      "_view_module": "@jupyter-widgets/controls",
      "_view_module_version": "1.5.0",
      "_view_name": "ProgressView",
      "bar_style": "",
      "description": "",
      "description_tooltip": null,
      "layout": "IPY_MODEL_1f6125ff9b4b4e7d86c82c353b309b48",
      "max": 10,
      "min": 0,
      "orientation": "horizontal",
      "style": "IPY_MODEL_78eccacc415a4e12b267b7703d93c0fc",
      "value": 2
     }
    },
    "78eccacc415a4e12b267b7703d93c0fc": {
     "model_module": "@jupyter-widgets/controls",
     "model_module_version": "1.5.0",
     "model_name": "ProgressStyleModel",
     "state": {
      "_model_module": "@jupyter-widgets/controls",
      "_model_module_version": "1.5.0",
      "_model_name": "ProgressStyleModel",
      "_view_count": null,
      "_view_module": "@jupyter-widgets/base",
      "_view_module_version": "1.2.0",
      "_view_name": "StyleView",
      "bar_color": null,
      "description_width": ""
     }
    },
    "7bc2ee7a8dff4b98a8ef59e74ce9ad1d": {
     "model_module": "@jupyter-widgets/controls",
     "model_module_version": "1.5.0",
     "model_name": "HTMLModel",
     "state": {
      "_dom_classes": [],
      "_model_module": "@jupyter-widgets/controls",
      "_model_module_version": "1.5.0",
      "_model_name": "HTMLModel",
      "_view_count": null,
      "_view_module": "@jupyter-widgets/controls",
      "_view_module_version": "1.5.0",
      "_view_name": "HTMLView",
      "description": "",
      "description_tooltip": null,
      "layout": "IPY_MODEL_065fa118ba3641c5a10e5867d9e58168",
      "placeholder": "​",
      "style": "IPY_MODEL_501126e47fdc49fc85152f8e422e63f0",
      "value": " 2/10 [1:29:56&lt;4:30:55, 2031.90s/it]"
     }
    },
    "c370cadf4ad14774977dd96d07746f37": {
     "model_module": "@jupyter-widgets/base",
     "model_module_version": "1.2.0",
     "model_name": "LayoutModel",
     "state": {
      "_model_module": "@jupyter-widgets/base",
      "_model_module_version": "1.2.0",
      "_model_name": "LayoutModel",
      "_view_count": null,
      "_view_module": "@jupyter-widgets/base",
      "_view_module_version": "1.2.0",
      "_view_name": "LayoutView",
      "align_content": null,
      "align_items": null,
      "align_self": null,
      "border": null,
      "bottom": null,
      "display": null,
      "flex": null,
      "flex_flow": null,
      "grid_area": null,
      "grid_auto_columns": null,
      "grid_auto_flow": null,
      "grid_auto_rows": null,
      "grid_column": null,
      "grid_gap": null,
      "grid_row": null,
      "grid_template_areas": null,
      "grid_template_columns": null,
      "grid_template_rows": null,
      "height": null,
      "justify_content": null,
      "justify_items": null,
      "left": null,
      "margin": null,
      "max_height": null,
      "max_width": null,
      "min_height": null,
      "min_width": null,
      "object_fit": null,
      "object_position": null,
      "order": null,
      "overflow": null,
      "overflow_x": null,
      "overflow_y": null,
      "padding": null,
      "right": null,
      "top": null,
      "visibility": null,
      "width": null
     }
    },
    "e16d4658bc2e441d92e6953381fd1ac1": {
     "model_module": "@jupyter-widgets/controls",
     "model_module_version": "1.5.0",
     "model_name": "HTMLModel",
     "state": {
      "_dom_classes": [],
      "_model_module": "@jupyter-widgets/controls",
      "_model_module_version": "1.5.0",
      "_model_name": "HTMLModel",
      "_view_count": null,
      "_view_module": "@jupyter-widgets/controls",
      "_view_module_version": "1.5.0",
      "_view_name": "HTMLView",
      "description": "",
      "description_tooltip": null,
      "layout": "IPY_MODEL_c370cadf4ad14774977dd96d07746f37",
      "placeholder": "​",
      "style": "IPY_MODEL_51940c0bdccb403eb057222b23d718c6",
      "value": "Training loss: 0.0017 (359/473):  20%"
     }
    }
   }
  }
 },
 "nbformat": 4,
 "nbformat_minor": 0
}
